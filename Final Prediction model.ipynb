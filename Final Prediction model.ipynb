{
 "cells": [
  {
   "cell_type": "code",
   "execution_count": 1,
   "id": "bb7a6f46",
   "metadata": {},
   "outputs": [],
   "source": [
    "import yfinance as yf\n"
   ]
  },
  {
   "cell_type": "code",
   "execution_count": 5,
   "id": "9c20d58e",
   "metadata": {},
   "outputs": [
    {
     "name": "stdout",
     "output_type": "stream",
     "text": [
      "Please enter the correct ticker name of the stock:TCS.NS\n"
     ]
    }
   ],
   "source": [
    "#user_input\n",
    "stock_symbol=str(input(\"Please enter the correct ticker name of the stock:\"))"
   ]
  },
  {
   "cell_type": "code",
   "execution_count": 6,
   "id": "b7436045",
   "metadata": {},
   "outputs": [
    {
     "name": "stdout",
     "output_type": "stream",
     "text": [
      "TCS.NS\n"
     ]
    }
   ],
   "source": [
    "print(stock_symbol)"
   ]
  },
  {
   "cell_type": "code",
   "execution_count": 7,
   "id": "6ab55f95",
   "metadata": {},
   "outputs": [
    {
     "name": "stdout",
     "output_type": "stream",
     "text": [
      "[*********************100%***********************]  1 of 1 completed\n"
     ]
    }
   ],
   "source": [
    "#last 5 years data with interval of 1 day\n",
    "data = yf.download(tickers=stock_symbol,period='5y',interval='1d')"
   ]
  },
  {
   "cell_type": "code",
   "execution_count": 8,
   "id": "f6ba3753",
   "metadata": {},
   "outputs": [
    {
     "data": {
      "text/plain": [
       "pandas.core.frame.DataFrame"
      ]
     },
     "execution_count": 8,
     "metadata": {},
     "output_type": "execute_result"
    }
   ],
   "source": [
    "type(data)"
   ]
  },
  {
   "cell_type": "code",
   "execution_count": 9,
   "id": "2dd962a0",
   "metadata": {},
   "outputs": [
    {
     "data": {
      "text/html": [
       "<div>\n",
       "<style scoped>\n",
       "    .dataframe tbody tr th:only-of-type {\n",
       "        vertical-align: middle;\n",
       "    }\n",
       "\n",
       "    .dataframe tbody tr th {\n",
       "        vertical-align: top;\n",
       "    }\n",
       "\n",
       "    .dataframe thead th {\n",
       "        text-align: right;\n",
       "    }\n",
       "</style>\n",
       "<table border=\"1\" class=\"dataframe\">\n",
       "  <thead>\n",
       "    <tr style=\"text-align: right;\">\n",
       "      <th></th>\n",
       "      <th>Open</th>\n",
       "      <th>High</th>\n",
       "      <th>Low</th>\n",
       "      <th>Close</th>\n",
       "      <th>Adj Close</th>\n",
       "      <th>Volume</th>\n",
       "    </tr>\n",
       "    <tr>\n",
       "      <th>Date</th>\n",
       "      <th></th>\n",
       "      <th></th>\n",
       "      <th></th>\n",
       "      <th></th>\n",
       "      <th></th>\n",
       "      <th></th>\n",
       "    </tr>\n",
       "  </thead>\n",
       "  <tbody>\n",
       "    <tr>\n",
       "      <th>2017-05-23</th>\n",
       "      <td>1266.599976</td>\n",
       "      <td>1282.074951</td>\n",
       "      <td>1257.000000</td>\n",
       "      <td>1260.849976</td>\n",
       "      <td>1146.229248</td>\n",
       "      <td>2748596</td>\n",
       "    </tr>\n",
       "    <tr>\n",
       "      <th>2017-05-24</th>\n",
       "      <td>1267.400024</td>\n",
       "      <td>1285.000000</td>\n",
       "      <td>1264.824951</td>\n",
       "      <td>1279.574951</td>\n",
       "      <td>1163.252075</td>\n",
       "      <td>2534548</td>\n",
       "    </tr>\n",
       "    <tr>\n",
       "      <th>2017-05-25</th>\n",
       "      <td>1288.500000</td>\n",
       "      <td>1318.775024</td>\n",
       "      <td>1284.000000</td>\n",
       "      <td>1312.300049</td>\n",
       "      <td>1193.002075</td>\n",
       "      <td>4094094</td>\n",
       "    </tr>\n",
       "    <tr>\n",
       "      <th>2017-05-26</th>\n",
       "      <td>1312.500000</td>\n",
       "      <td>1313.425049</td>\n",
       "      <td>1282.324951</td>\n",
       "      <td>1289.125000</td>\n",
       "      <td>1171.934082</td>\n",
       "      <td>1362550</td>\n",
       "    </tr>\n",
       "    <tr>\n",
       "      <th>2017-05-29</th>\n",
       "      <td>1289.500000</td>\n",
       "      <td>1298.250000</td>\n",
       "      <td>1282.000000</td>\n",
       "      <td>1286.425049</td>\n",
       "      <td>1169.479492</td>\n",
       "      <td>1749290</td>\n",
       "    </tr>\n",
       "  </tbody>\n",
       "</table>\n",
       "</div>"
      ],
      "text/plain": [
       "                   Open         High          Low        Close    Adj Close  \\\n",
       "Date                                                                          \n",
       "2017-05-23  1266.599976  1282.074951  1257.000000  1260.849976  1146.229248   \n",
       "2017-05-24  1267.400024  1285.000000  1264.824951  1279.574951  1163.252075   \n",
       "2017-05-25  1288.500000  1318.775024  1284.000000  1312.300049  1193.002075   \n",
       "2017-05-26  1312.500000  1313.425049  1282.324951  1289.125000  1171.934082   \n",
       "2017-05-29  1289.500000  1298.250000  1282.000000  1286.425049  1169.479492   \n",
       "\n",
       "             Volume  \n",
       "Date                 \n",
       "2017-05-23  2748596  \n",
       "2017-05-24  2534548  \n",
       "2017-05-25  4094094  \n",
       "2017-05-26  1362550  \n",
       "2017-05-29  1749290  "
      ]
     },
     "execution_count": 9,
     "metadata": {},
     "output_type": "execute_result"
    }
   ],
   "source": [
    "data.head()"
   ]
  },
  {
   "cell_type": "code",
   "execution_count": 10,
   "id": "a239773d",
   "metadata": {},
   "outputs": [
    {
     "data": {
      "text/html": [
       "<div>\n",
       "<style scoped>\n",
       "    .dataframe tbody tr th:only-of-type {\n",
       "        vertical-align: middle;\n",
       "    }\n",
       "\n",
       "    .dataframe tbody tr th {\n",
       "        vertical-align: top;\n",
       "    }\n",
       "\n",
       "    .dataframe thead th {\n",
       "        text-align: right;\n",
       "    }\n",
       "</style>\n",
       "<table border=\"1\" class=\"dataframe\">\n",
       "  <thead>\n",
       "    <tr style=\"text-align: right;\">\n",
       "      <th></th>\n",
       "      <th>Open</th>\n",
       "      <th>High</th>\n",
       "      <th>Low</th>\n",
       "      <th>Close</th>\n",
       "      <th>Adj Close</th>\n",
       "      <th>Volume</th>\n",
       "    </tr>\n",
       "    <tr>\n",
       "      <th>Date</th>\n",
       "      <th></th>\n",
       "      <th></th>\n",
       "      <th></th>\n",
       "      <th></th>\n",
       "      <th></th>\n",
       "      <th></th>\n",
       "    </tr>\n",
       "  </thead>\n",
       "  <tbody>\n",
       "    <tr>\n",
       "      <th>2022-05-17</th>\n",
       "      <td>3370.000000</td>\n",
       "      <td>3467.000000</td>\n",
       "      <td>3350.399902</td>\n",
       "      <td>3451.600098</td>\n",
       "      <td>3451.600098</td>\n",
       "      <td>1754076</td>\n",
       "    </tr>\n",
       "    <tr>\n",
       "      <th>2022-05-18</th>\n",
       "      <td>3465.000000</td>\n",
       "      <td>3495.000000</td>\n",
       "      <td>3443.050049</td>\n",
       "      <td>3448.800049</td>\n",
       "      <td>3448.800049</td>\n",
       "      <td>1866781</td>\n",
       "    </tr>\n",
       "    <tr>\n",
       "      <th>2022-05-19</th>\n",
       "      <td>3397.000000</td>\n",
       "      <td>3405.000000</td>\n",
       "      <td>3230.000000</td>\n",
       "      <td>3261.949951</td>\n",
       "      <td>3261.949951</td>\n",
       "      <td>4642963</td>\n",
       "    </tr>\n",
       "    <tr>\n",
       "      <th>2022-05-20</th>\n",
       "      <td>3310.000000</td>\n",
       "      <td>3313.899902</td>\n",
       "      <td>3270.050049</td>\n",
       "      <td>3293.000000</td>\n",
       "      <td>3293.000000</td>\n",
       "      <td>3065125</td>\n",
       "    </tr>\n",
       "    <tr>\n",
       "      <th>2022-05-23</th>\n",
       "      <td>3304.800049</td>\n",
       "      <td>3338.899902</td>\n",
       "      <td>3267.000000</td>\n",
       "      <td>3326.000000</td>\n",
       "      <td>3326.000000</td>\n",
       "      <td>1519832</td>\n",
       "    </tr>\n",
       "  </tbody>\n",
       "</table>\n",
       "</div>"
      ],
      "text/plain": [
       "                   Open         High          Low        Close    Adj Close  \\\n",
       "Date                                                                          \n",
       "2022-05-17  3370.000000  3467.000000  3350.399902  3451.600098  3451.600098   \n",
       "2022-05-18  3465.000000  3495.000000  3443.050049  3448.800049  3448.800049   \n",
       "2022-05-19  3397.000000  3405.000000  3230.000000  3261.949951  3261.949951   \n",
       "2022-05-20  3310.000000  3313.899902  3270.050049  3293.000000  3293.000000   \n",
       "2022-05-23  3304.800049  3338.899902  3267.000000  3326.000000  3326.000000   \n",
       "\n",
       "             Volume  \n",
       "Date                 \n",
       "2022-05-17  1754076  \n",
       "2022-05-18  1866781  \n",
       "2022-05-19  4642963  \n",
       "2022-05-20  3065125  \n",
       "2022-05-23  1519832  "
      ]
     },
     "execution_count": 10,
     "metadata": {},
     "output_type": "execute_result"
    }
   ],
   "source": [
    "data.tail()"
   ]
  },
  {
   "cell_type": "code",
   "execution_count": 273,
   "id": "744bcff5",
   "metadata": {},
   "outputs": [
    {
     "data": {
      "text/plain": [
       "1259"
      ]
     },
     "execution_count": 273,
     "metadata": {},
     "output_type": "execute_result"
    }
   ],
   "source": [
    "len(data)"
   ]
  },
  {
   "cell_type": "code",
   "execution_count": 274,
   "id": "b29e1639",
   "metadata": {},
   "outputs": [],
   "source": [
    "opn = data[['Open']]"
   ]
  },
  {
   "cell_type": "code",
   "execution_count": 275,
   "id": "f567f100",
   "metadata": {},
   "outputs": [
    {
     "data": {
      "text/plain": [
       "<AxesSubplot:xlabel='Date'>"
      ]
     },
     "execution_count": 275,
     "metadata": {},
     "output_type": "execute_result"
    },
    {
     "data": {
      "image/png": "[encoded data removed]",
      "text/plain": [
       "<Figure size 432x288 with 1 Axes>"
      ]
     },
     "metadata": {
      "needs_background": "light"
     },
     "output_type": "display_data"
    }
   ],
   "source": [
    "opn.plot()"
   ]
  },
  {
   "cell_type": "code",
   "execution_count": 276,
   "id": "540cadf9",
   "metadata": {},
   "outputs": [],
   "source": [
    "import matplotlib.pyplot as plt"
   ]
  },
  {
   "cell_type": "code",
   "execution_count": 277,
   "id": "e32f3f75",
   "metadata": {},
   "outputs": [],
   "source": [
    "ds = opn.values"
   ]
  },
  {
   "cell_type": "code",
   "execution_count": 278,
   "id": "89d2214b",
   "metadata": {},
   "outputs": [
    {
     "data": {
      "text/plain": [
       "array([[42.25      ],\n",
       "       [42.41999817],\n",
       "       [41.99499893],\n",
       "       ...,\n",
       "       [54.09000015],\n",
       "       [53.75      ],\n",
       "       [52.65999985]])"
      ]
     },
     "execution_count": 278,
     "metadata": {},
     "output_type": "execute_result"
    }
   ],
   "source": [
    "ds"
   ]
  },
  {
   "cell_type": "code",
   "execution_count": 279,
   "id": "700451bf",
   "metadata": {},
   "outputs": [
    {
     "data": {
      "text/plain": [
       "[<matplotlib.lines.Line2D at 0x1c78fd2c5b0>]"
      ]
     },
     "execution_count": 279,
     "metadata": {},
     "output_type": "execute_result"
    },
    {
     "data": {
      "image/png": "[encoded data removed]",
      "text/plain": [
       "<Figure size 432x288 with 1 Axes>"
      ]
     },
     "metadata": {
      "needs_background": "light"
     },
     "output_type": "display_data"
    }
   ],
   "source": [
    "plt.plot(ds)"
   ]
  },
  {
   "cell_type": "code",
   "execution_count": 280,
   "id": "57f2505a",
   "metadata": {},
   "outputs": [],
   "source": [
    "import numpy as np"
   ]
  },
  {
   "cell_type": "code",
   "execution_count": 281,
   "id": "4a49790f",
   "metadata": {},
   "outputs": [],
   "source": [
    "#MinMaxScaler preserves the shape of the original distribution. It doesn't meaningfully change the information embedded in the original data. \n",
    "from sklearn.preprocessing import MinMaxScaler"
   ]
  },
  {
   "cell_type": "code",
   "execution_count": 282,
   "id": "9880d5c9",
   "metadata": {},
   "outputs": [],
   "source": [
    "#Using MinMaxScaler for normalizing data between 0 & 1\n",
    "normalizer = MinMaxScaler(feature_range=(0,1))\n",
    "ds_scaled = normalizer.fit_transform(np.array(ds).reshape(-1,1))"
   ]
  },
  {
   "cell_type": "code",
   "execution_count": 283,
   "id": "b5f64492",
   "metadata": {},
   "outputs": [
    {
     "data": {
      "text/plain": [
       "(1259, 1259)"
      ]
     },
     "execution_count": 283,
     "metadata": {},
     "output_type": "execute_result"
    }
   ],
   "source": [
    "len(ds_scaled), len(ds)"
   ]
  },
  {
   "cell_type": "code",
   "execution_count": 284,
   "id": "021e0b37",
   "metadata": {},
   "outputs": [],
   "source": [
    "#Defining test and train data sizes\n",
    "train_size = int(len(ds_scaled)*0.70)\n",
    "test_size = len(ds_scaled) - train_size"
   ]
  },
  {
   "cell_type": "code",
   "execution_count": 285,
   "id": "1b091a58",
   "metadata": {},
   "outputs": [
    {
     "data": {
      "text/plain": [
       "(881, 378)"
      ]
     },
     "execution_count": 285,
     "metadata": {},
     "output_type": "execute_result"
    }
   ],
   "source": [
    "train_size,test_size"
   ]
  },
  {
   "cell_type": "code",
   "execution_count": 286,
   "id": "41ce2934",
   "metadata": {},
   "outputs": [],
   "source": [
    "#Splitting data between train and test\n",
    "ds_train, ds_test = ds_scaled[0:train_size,:], ds_scaled[train_size:len(ds_scaled),:1]"
   ]
  },
  {
   "cell_type": "code",
   "execution_count": 287,
   "id": "e588a9aa",
   "metadata": {},
   "outputs": [
    {
     "data": {
      "text/plain": [
       "(881, 378)"
      ]
     },
     "execution_count": 287,
     "metadata": {},
     "output_type": "execute_result"
    }
   ],
   "source": [
    "len(ds_train),len(ds_test)"
   ]
  },
  {
   "cell_type": "code",
   "execution_count": 288,
   "id": "c4986250",
   "metadata": {},
   "outputs": [],
   "source": [
    "#creating dataset in time series for LSTM model \n",
    "#X[100,120,140,160,180] : Y[200]\n",
    "def create_ds(dataset,step):\n",
    "    Xtrain, Ytrain = [], []\n",
    "    for i in range(len(dataset)-step-1):\n",
    "        a = dataset[i:(i+step), 0]\n",
    "        Xtrain.append(a)\n",
    "        Ytrain.append(dataset[i + step, 0])\n",
    "    return np.array(Xtrain), np.array(Ytrain)"
   ]
  },
  {
   "cell_type": "code",
   "execution_count": 289,
   "id": "d2102204",
   "metadata": {},
   "outputs": [],
   "source": [
    "#Taking 100 days price as one record for training\n",
    "time_stamp = 100\n",
    "X_train, y_train = create_ds(ds_train,time_stamp)\n",
    "X_test, y_test = create_ds(ds_test,time_stamp)"
   ]
  },
  {
   "cell_type": "code",
   "execution_count": 290,
   "id": "6a9368e5",
   "metadata": {},
   "outputs": [
    {
     "data": {
      "text/plain": [
       "((780, 100), (780,))"
      ]
     },
     "execution_count": 290,
     "metadata": {},
     "output_type": "execute_result"
    }
   ],
   "source": [
    "X_train.shape,y_train.shape"
   ]
  },
  {
   "cell_type": "code",
   "execution_count": 291,
   "id": "a17e2167",
   "metadata": {},
   "outputs": [
    {
     "data": {
      "text/plain": [
       "((277, 100), (277,))"
      ]
     },
     "execution_count": 291,
     "metadata": {},
     "output_type": "execute_result"
    }
   ],
   "source": [
    "X_test.shape, y_test.shape"
   ]
  },
  {
   "cell_type": "code",
   "execution_count": 292,
   "id": "4ddea2c0",
   "metadata": {},
   "outputs": [],
   "source": [
    "#Reshaping data to fit into LSTM model\n",
    "X_train = X_train.reshape(X_train.shape[0],X_train.shape[1] , 1)\n",
    "X_test = X_test.reshape(X_test.shape[0],X_test.shape[1] , 1)"
   ]
  },
  {
   "cell_type": "code",
   "execution_count": 293,
   "id": "443e1020",
   "metadata": {},
   "outputs": [],
   "source": [
    "from keras.models import Sequential\n",
    "from keras.layers import Dense, LSTM"
   ]
  },
  {
   "cell_type": "code",
   "execution_count": 294,
   "id": "299da764",
   "metadata": {},
   "outputs": [
    {
     "name": "stdout",
     "output_type": "stream",
     "text": [
      "Model: \"sequential_4\"\n",
      "_________________________________________________________________\n",
      "Layer (type)                 Output Shape              Param #   \n",
      "=================================================================\n",
      "lstm_12 (LSTM)               (None, 100, 50)           10400     \n",
      "_________________________________________________________________\n",
      "lstm_13 (LSTM)               (None, 100, 50)           20200     \n",
      "_________________________________________________________________\n",
      "lstm_14 (LSTM)               (None, 50)                20200     \n",
      "_________________________________________________________________\n",
      "dense_4 (Dense)              (None, 1)                 51        \n",
      "=================================================================\n",
      "Total params: 50,851\n",
      "Trainable params: 50,851\n",
      "Non-trainable params: 0\n",
      "_________________________________________________________________\n"
     ]
    }
   ],
   "source": [
    "#Creating LSTM model using keras\n",
    "model = Sequential()\n",
    "model.add(LSTM(units=50,return_sequences=True,input_shape=(X_train.shape[1],1)))\n",
    "model.add(LSTM(units=50,return_sequences=True))\n",
    "model.add(LSTM(units=50))\n",
    "model.add(Dense(units=1,activation='linear'))\n",
    "model.summary()"
   ]
  },
  {
   "cell_type": "code",
   "execution_count": 295,
   "id": "b967fadd",
   "metadata": {},
   "outputs": [
    {
     "name": "stdout",
     "output_type": "stream",
     "text": [
      "Epoch 1/100\n",
      "13/13 [==============================] - 10s 294ms/step - loss: 0.0356 - val_loss: 0.0592\n",
      "Epoch 2/100\n",
      "13/13 [==============================] - 2s 168ms/step - loss: 0.0077 - val_loss: 0.0075\n",
      "Epoch 3/100\n",
      "13/13 [==============================] - 2s 173ms/step - loss: 0.0046 - val_loss: 0.0114\n",
      "Epoch 4/100\n",
      "13/13 [==============================] - 2s 184ms/step - loss: 0.0036 - val_loss: 0.0109\n",
      "Epoch 5/100\n",
      "13/13 [==============================] - 2s 168ms/step - loss: 0.0030 - val_loss: 0.0039\n",
      "Epoch 6/100\n",
      "13/13 [==============================] - 3s 234ms/step - loss: 0.0028 - val_loss: 0.0043\n",
      "Epoch 7/100\n",
      "13/13 [==============================] - 5s 343ms/step - loss: 0.0026 - val_loss: 0.0042\n",
      "Epoch 8/100\n",
      "13/13 [==============================] - 3s 193ms/step - loss: 0.0023 - val_loss: 0.0059\n",
      "Epoch 9/100\n",
      "13/13 [==============================] - 3s 196ms/step - loss: 0.0021 - val_loss: 0.0062\n",
      "Epoch 10/100\n",
      "13/13 [==============================] - 3s 203ms/step - loss: 0.0018 - val_loss: 0.0059\n",
      "Epoch 11/100\n",
      "13/13 [==============================] - 2s 183ms/step - loss: 0.0018 - val_loss: 0.0051\n",
      "Epoch 12/100\n",
      "13/13 [==============================] - 3s 220ms/step - loss: 0.0017 - val_loss: 0.0043\n",
      "Epoch 13/100\n",
      "13/13 [==============================] - 3s 226ms/step - loss: 0.0019 - val_loss: 0.0038\n",
      "Epoch 14/100\n",
      "13/13 [==============================] - 3s 199ms/step - loss: 0.0017 - val_loss: 0.0064\n",
      "Epoch 15/100\n",
      "13/13 [==============================] - 3s 196ms/step - loss: 0.0017 - val_loss: 0.0039\n",
      "Epoch 16/100\n",
      "13/13 [==============================] - 3s 194ms/step - loss: 0.0017 - val_loss: 0.0052\n",
      "Epoch 17/100\n",
      "13/13 [==============================] - 2s 193ms/step - loss: 0.0015 - val_loss: 0.0044\n",
      "Epoch 18/100\n",
      "13/13 [==============================] - 2s 184ms/step - loss: 0.0015 - val_loss: 0.0055\n",
      "Epoch 19/100\n",
      "13/13 [==============================] - 2s 183ms/step - loss: 0.0015 - val_loss: 0.0037\n",
      "Epoch 20/100\n",
      "13/13 [==============================] - 2s 183ms/step - loss: 0.0015 - val_loss: 0.0039\n",
      "Epoch 21/100\n",
      "13/13 [==============================] - 3s 219ms/step - loss: 0.0015 - val_loss: 0.0033\n",
      "Epoch 22/100\n",
      "13/13 [==============================] - 3s 232ms/step - loss: 0.0014 - val_loss: 0.0038\n",
      "Epoch 23/100\n",
      "13/13 [==============================] - 3s 213ms/step - loss: 0.0016 - val_loss: 0.0049\n",
      "Epoch 24/100\n",
      "13/13 [==============================] - 2s 181ms/step - loss: 0.0016 - val_loss: 0.0039\n",
      "Epoch 25/100\n",
      "13/13 [==============================] - 2s 186ms/step - loss: 0.0014 - val_loss: 0.0038\n",
      "Epoch 26/100\n",
      "13/13 [==============================] - 2s 179ms/step - loss: 0.0014 - val_loss: 0.0029\n",
      "Epoch 27/100\n",
      "13/13 [==============================] - 2s 185ms/step - loss: 0.0014 - val_loss: 0.0027\n",
      "Epoch 28/100\n",
      "13/13 [==============================] - 2s 190ms/step - loss: 0.0013 - val_loss: 0.0036\n",
      "Epoch 29/100\n",
      "13/13 [==============================] - 2s 185ms/step - loss: 0.0013 - val_loss: 0.0031\n",
      "Epoch 30/100\n",
      "13/13 [==============================] - 2s 180ms/step - loss: 0.0014 - val_loss: 0.0048\n",
      "Epoch 31/100\n",
      "13/13 [==============================] - 2s 183ms/step - loss: 0.0013 - val_loss: 0.0028\n",
      "Epoch 32/100\n",
      "13/13 [==============================] - 3s 205ms/step - loss: 0.0013 - val_loss: 0.0051\n",
      "Epoch 33/100\n",
      "13/13 [==============================] - 3s 198ms/step - loss: 0.0013 - val_loss: 0.0034\n",
      "Epoch 34/100\n",
      "13/13 [==============================] - 2s 192ms/step - loss: 0.0012 - val_loss: 0.0022\n",
      "Epoch 35/100\n",
      "13/13 [==============================] - 2s 190ms/step - loss: 0.0011 - val_loss: 0.0022\n",
      "Epoch 36/100\n",
      "13/13 [==============================] - 2s 194ms/step - loss: 0.0011 - val_loss: 0.0019\n",
      "Epoch 37/100\n",
      "13/13 [==============================] - 3s 221ms/step - loss: 0.0011 - val_loss: 0.0024\n",
      "Epoch 38/100\n",
      "13/13 [==============================] - 3s 211ms/step - loss: 0.0010 - val_loss: 0.0023\n",
      "Epoch 39/100\n",
      "13/13 [==============================] - 2s 193ms/step - loss: 0.0011 - val_loss: 0.0044\n",
      "Epoch 40/100\n",
      "13/13 [==============================] - 2s 184ms/step - loss: 0.0011 - val_loss: 0.0021\n",
      "Epoch 41/100\n",
      "13/13 [==============================] - 3s 208ms/step - loss: 0.0010 - val_loss: 0.0023\n",
      "Epoch 42/100\n",
      "13/13 [==============================] - 2s 193ms/step - loss: 9.7416e-04 - val_loss: 0.0019\n",
      "Epoch 43/100\n",
      "13/13 [==============================] - 2s 183ms/step - loss: 0.0011 - val_loss: 0.0022\n",
      "Epoch 44/100\n",
      "13/13 [==============================] - 2s 179ms/step - loss: 9.5652e-04 - val_loss: 0.0020\n",
      "Epoch 45/100\n",
      "13/13 [==============================] - 3s 198ms/step - loss: 0.0010 - val_loss: 0.0016\n",
      "Epoch 46/100\n",
      "13/13 [==============================] - 3s 196ms/step - loss: 9.6331e-04 - val_loss: 0.0016\n",
      "Epoch 47/100\n",
      "13/13 [==============================] - 3s 199ms/step - loss: 9.0925e-04 - val_loss: 0.0047\n",
      "Epoch 48/100\n",
      "13/13 [==============================] - 3s 218ms/step - loss: 9.7396e-04 - val_loss: 0.0015\n",
      "Epoch 49/100\n",
      "13/13 [==============================] - 3s 200ms/step - loss: 8.9651e-04 - val_loss: 0.0020\n",
      "Epoch 50/100\n",
      "13/13 [==============================] - 2s 190ms/step - loss: 8.5587e-04 - val_loss: 0.0024\n",
      "Epoch 51/100\n",
      "13/13 [==============================] - 2s 190ms/step - loss: 8.5696e-04 - val_loss: 0.0018\n",
      "Epoch 52/100\n",
      "13/13 [==============================] - 2s 169ms/step - loss: 8.3618e-04 - val_loss: 0.0013\n",
      "Epoch 53/100\n",
      "13/13 [==============================] - 2s 165ms/step - loss: 9.0703e-04 - val_loss: 0.0020\n",
      "Epoch 54/100\n",
      "13/13 [==============================] - 2s 171ms/step - loss: 9.3460e-04 - val_loss: 0.0018\n",
      "Epoch 55/100\n",
      "13/13 [==============================] - 2s 164ms/step - loss: 8.2580e-04 - val_loss: 0.0038\n",
      "Epoch 56/100\n",
      "13/13 [==============================] - 2s 166ms/step - loss: 0.0013 - val_loss: 0.0017\n",
      "Epoch 57/100\n",
      "13/13 [==============================] - 2s 163ms/step - loss: 0.0011 - val_loss: 0.0041\n",
      "Epoch 58/100\n",
      "13/13 [==============================] - 2s 166ms/step - loss: 9.0359e-04 - val_loss: 0.0013\n",
      "Epoch 59/100\n",
      "13/13 [==============================] - 2s 163ms/step - loss: 8.6284e-04 - val_loss: 0.0028\n",
      "Epoch 60/100\n",
      "13/13 [==============================] - 2s 165ms/step - loss: 7.6027e-04 - val_loss: 0.0025\n",
      "Epoch 61/100\n",
      "13/13 [==============================] - 2s 172ms/step - loss: 7.5851e-04 - val_loss: 0.0020\n",
      "Epoch 62/100\n",
      "13/13 [==============================] - 2s 171ms/step - loss: 7.9631e-04 - val_loss: 0.0018\n",
      "Epoch 63/100\n",
      "13/13 [==============================] - 2s 165ms/step - loss: 8.9584e-04 - val_loss: 0.0085\n",
      "Epoch 64/100\n",
      "13/13 [==============================] - 2s 168ms/step - loss: 9.2568e-04 - val_loss: 0.0012\n",
      "Epoch 65/100\n",
      "13/13 [==============================] - 2s 175ms/step - loss: 9.0030e-04 - val_loss: 0.0012\n",
      "Epoch 66/100\n",
      "13/13 [==============================] - 2s 169ms/step - loss: 7.7103e-04 - val_loss: 0.0026\n",
      "Epoch 67/100\n",
      "13/13 [==============================] - 2s 163ms/step - loss: 7.2198e-04 - val_loss: 0.0023\n",
      "Epoch 68/100\n",
      "13/13 [==============================] - 2s 167ms/step - loss: 7.1512e-04 - val_loss: 0.0019\n",
      "Epoch 69/100\n",
      "13/13 [==============================] - 2s 171ms/step - loss: 7.0183e-04 - val_loss: 0.0013\n",
      "Epoch 70/100\n",
      "13/13 [==============================] - 2s 163ms/step - loss: 6.9806e-04 - val_loss: 0.0016\n",
      "Epoch 71/100\n",
      "13/13 [==============================] - 2s 162ms/step - loss: 6.8807e-04 - val_loss: 0.0011\n",
      "Epoch 72/100\n",
      "13/13 [==============================] - 2s 164ms/step - loss: 6.4802e-04 - val_loss: 0.0016\n",
      "Epoch 73/100\n",
      "13/13 [==============================] - 2s 162ms/step - loss: 6.7432e-04 - val_loss: 0.0010\n",
      "Epoch 74/100\n",
      "13/13 [==============================] - 2s 163ms/step - loss: 6.6634e-04 - val_loss: 0.0014\n",
      "Epoch 75/100\n",
      "13/13 [==============================] - 2s 165ms/step - loss: 6.3089e-04 - val_loss: 0.0018\n",
      "Epoch 76/100\n",
      "13/13 [==============================] - 2s 169ms/step - loss: 7.2001e-04 - val_loss: 0.0014\n",
      "Epoch 77/100\n",
      "13/13 [==============================] - 2s 169ms/step - loss: 6.3925e-04 - val_loss: 0.0021\n",
      "Epoch 78/100\n",
      "13/13 [==============================] - 2s 163ms/step - loss: 6.0899e-04 - val_loss: 0.0010\n",
      "Epoch 79/100\n",
      "13/13 [==============================] - 2s 164ms/step - loss: 6.3111e-04 - val_loss: 0.0013\n",
      "Epoch 80/100\n"
     ]
    },
    {
     "name": "stdout",
     "output_type": "stream",
     "text": [
      "13/13 [==============================] - 2s 166ms/step - loss: 6.7487e-04 - val_loss: 9.9917e-04\n",
      "Epoch 81/100\n",
      "13/13 [==============================] - 2s 181ms/step - loss: 7.1774e-04 - val_loss: 0.0010\n",
      "Epoch 82/100\n",
      "13/13 [==============================] - 2s 178ms/step - loss: 6.3369e-04 - val_loss: 0.0018\n",
      "Epoch 83/100\n",
      "13/13 [==============================] - 2s 179ms/step - loss: 5.6713e-04 - val_loss: 0.0014\n",
      "Epoch 84/100\n",
      "13/13 [==============================] - 2s 177ms/step - loss: 5.4116e-04 - val_loss: 0.0015\n",
      "Epoch 85/100\n",
      "13/13 [==============================] - 2s 170ms/step - loss: 5.5981e-04 - val_loss: 0.0010\n",
      "Epoch 86/100\n",
      "13/13 [==============================] - 2s 164ms/step - loss: 5.5638e-04 - val_loss: 0.0012\n",
      "Epoch 87/100\n",
      "13/13 [==============================] - 2s 163ms/step - loss: 5.1874e-04 - val_loss: 0.0015\n",
      "Epoch 88/100\n",
      "13/13 [==============================] - 2s 165ms/step - loss: 5.1677e-04 - val_loss: 0.0014\n",
      "Epoch 89/100\n",
      "13/13 [==============================] - 2s 164ms/step - loss: 5.3011e-04 - val_loss: 0.0010\n",
      "Epoch 90/100\n",
      "13/13 [==============================] - 2s 167ms/step - loss: 5.1748e-04 - val_loss: 0.0012\n",
      "Epoch 91/100\n",
      "13/13 [==============================] - 2s 172ms/step - loss: 5.3487e-04 - val_loss: 0.0018\n",
      "Epoch 92/100\n",
      "13/13 [==============================] - 2s 166ms/step - loss: 5.0846e-04 - val_loss: 9.7253e-04\n",
      "Epoch 93/100\n",
      "13/13 [==============================] - 2s 164ms/step - loss: 5.0298e-04 - val_loss: 0.0039\n",
      "Epoch 94/100\n",
      "13/13 [==============================] - 2s 163ms/step - loss: 5.4206e-04 - val_loss: 9.5647e-04\n",
      "Epoch 95/100\n",
      "13/13 [==============================] - 2s 163ms/step - loss: 4.7041e-04 - val_loss: 9.2097e-04\n",
      "Epoch 96/100\n",
      "13/13 [==============================] - 2s 163ms/step - loss: 4.9208e-04 - val_loss: 0.0015\n",
      "Epoch 97/100\n",
      "13/13 [==============================] - 2s 164ms/step - loss: 4.5649e-04 - val_loss: 0.0014\n",
      "Epoch 98/100\n",
      "13/13 [==============================] - 2s 194ms/step - loss: 4.6990e-04 - val_loss: 9.7853e-04\n",
      "Epoch 99/100\n",
      "13/13 [==============================] - 2s 181ms/step - loss: 4.7267e-04 - val_loss: 0.0011\n",
      "Epoch 100/100\n",
      "13/13 [==============================] - 2s 169ms/step - loss: 4.5868e-04 - val_loss: 0.0020\n"
     ]
    },
    {
     "data": {
      "text/plain": [
       "<keras.callbacks.History at 0x1c7f43ed700>"
      ]
     },
     "execution_count": 295,
     "metadata": {},
     "output_type": "execute_result"
    }
   ],
   "source": [
    "#Training model with adam optimizer and mean squared error loss function\n",
    "model.compile(loss='mean_squared_error',optimizer='adam')\n",
    "model.fit(X_train,y_train,validation_data=(X_test,y_test),epochs=100,batch_size=64)"
   ]
  },
  {
   "cell_type": "code",
   "execution_count": 296,
   "id": "9bc4f963",
   "metadata": {},
   "outputs": [
    {
     "data": {
      "text/plain": [
       "[<matplotlib.lines.Line2D at 0x1c7998be280>]"
      ]
     },
     "execution_count": 296,
     "metadata": {},
     "output_type": "execute_result"
    },
    {
     "data": {
      "image/png": "[encoded data removed]",
      "text/plain": [
       "<Figure size 432x288 with 1 Axes>"
      ]
     },
     "metadata": {
      "needs_background": "light"
     },
     "output_type": "display_data"
    }
   ],
   "source": [
    "#PLotting loss, it shows that loss has decreased significantly and model trained well\n",
    "loss = model.history.history['loss']\n",
    "plt.plot(loss)"
   ]
  },
  {
   "cell_type": "code",
   "execution_count": 297,
   "id": "54e1747d",
   "metadata": {},
   "outputs": [],
   "source": [
    "#Predicitng on train and test data\n",
    "train_predict = model.predict(X_train)\n",
    "test_predict = model.predict(X_test)"
   ]
  },
  {
   "cell_type": "code",
   "execution_count": 298,
   "id": "95e264e1",
   "metadata": {},
   "outputs": [],
   "source": [
    "#Inverse transform to get actual value\n",
    "train_predict = normalizer.inverse_transform(train_predict)\n",
    "test_predict = normalizer.inverse_transform(test_predict)"
   ]
  },
  {
   "cell_type": "code",
   "execution_count": 299,
   "id": "78dc2b07",
   "metadata": {},
   "outputs": [
    {
     "data": {
      "text/plain": [
       "[<matplotlib.lines.Line2D at 0x1c79b1b7250>]"
      ]
     },
     "execution_count": 299,
     "metadata": {},
     "output_type": "execute_result"
    },
    {
     "data": {
      "image/png": "[encoded data removed]",
      "text/plain": [
       "<Figure size 432x288 with 1 Axes>"
      ]
     },
     "metadata": {
      "needs_background": "light"
     },
     "output_type": "display_data"
    }
   ],
   "source": [
    "#Comparing using visuals\n",
    "plt.plot(normalizer.inverse_transform(ds_scaled))\n",
    "plt.plot(train_predict)\n",
    "plt.plot(test_predict)"
   ]
  },
  {
   "cell_type": "code",
   "execution_count": 300,
   "id": "2399a9f0",
   "metadata": {},
   "outputs": [
    {
     "data": {
      "text/plain": [
       "numpy.ndarray"
      ]
     },
     "execution_count": 300,
     "metadata": {},
     "output_type": "execute_result"
    }
   ],
   "source": [
    "type(train_predict)"
   ]
  },
  {
   "cell_type": "code",
   "execution_count": 301,
   "id": "3429ea27",
   "metadata": {},
   "outputs": [],
   "source": [
    "test = np.vstack((train_predict,test_predict))"
   ]
  },
  {
   "cell_type": "code",
   "execution_count": 302,
   "id": "08899a91",
   "metadata": {},
   "outputs": [
    {
     "data": {
      "text/plain": [
       "[<matplotlib.lines.Line2D at 0x1c79b232370>]"
      ]
     },
     "execution_count": 302,
     "metadata": {},
     "output_type": "execute_result"
    },
    {
     "data": {
      "image/png": "[encoded data removed]",
      "text/plain": [
       "<Figure size 432x288 with 1 Axes>"
      ]
     },
     "metadata": {
      "needs_background": "light"
     },
     "output_type": "display_data"
    }
   ],
   "source": [
    "#Combining the predited data to create uniform data visualization\n",
    "plt.plot(normalizer.inverse_transform(ds_scaled))\n",
    "plt.plot(test)"
   ]
  },
  {
   "cell_type": "code",
   "execution_count": 303,
   "id": "f349f2ab",
   "metadata": {},
   "outputs": [
    {
     "data": {
      "text/plain": [
       "378"
      ]
     },
     "execution_count": 303,
     "metadata": {},
     "output_type": "execute_result"
    }
   ],
   "source": [
    "len(ds_test)"
   ]
  },
  {
   "cell_type": "code",
   "execution_count": 304,
   "id": "c4f8de7f",
   "metadata": {},
   "outputs": [],
   "source": [
    "a=len(ds_test)"
   ]
  },
  {
   "cell_type": "code",
   "execution_count": 305,
   "id": "2b2a294e",
   "metadata": {},
   "outputs": [
    {
     "data": {
      "text/plain": [
       "378"
      ]
     },
     "execution_count": 305,
     "metadata": {},
     "output_type": "execute_result"
    }
   ],
   "source": [
    "a"
   ]
  },
  {
   "cell_type": "code",
   "execution_count": 306,
   "id": "6b499f40",
   "metadata": {},
   "outputs": [],
   "source": [
    "b=a-100"
   ]
  },
  {
   "cell_type": "code",
   "execution_count": 307,
   "id": "3f8d3412",
   "metadata": {},
   "outputs": [
    {
     "data": {
      "text/plain": [
       "278"
      ]
     },
     "execution_count": 307,
     "metadata": {},
     "output_type": "execute_result"
    }
   ],
   "source": [
    "b"
   ]
  },
  {
   "cell_type": "code",
   "execution_count": 308,
   "id": "6ada4ca3",
   "metadata": {},
   "outputs": [],
   "source": [
    "#Getting the last 100 days records\n",
    "fut_inp = ds_test[b:]"
   ]
  },
  {
   "cell_type": "code",
   "execution_count": 309,
   "id": "d96a67d6",
   "metadata": {},
   "outputs": [],
   "source": [
    "fut_inp = fut_inp.reshape(1,-1)"
   ]
  },
  {
   "cell_type": "code",
   "execution_count": 310,
   "id": "985294cb",
   "metadata": {},
   "outputs": [],
   "source": [
    "fut_inp = fut_inp.reshape(1,-1)"
   ]
  },
  {
   "cell_type": "code",
   "execution_count": 311,
   "id": "c858193d",
   "metadata": {},
   "outputs": [],
   "source": [
    "tmp_inp = list(fut_inp)"
   ]
  },
  {
   "cell_type": "code",
   "execution_count": 312,
   "id": "da8afbfb",
   "metadata": {},
   "outputs": [
    {
     "data": {
      "text/plain": [
       "(1, 100)"
      ]
     },
     "execution_count": 312,
     "metadata": {},
     "output_type": "execute_result"
    }
   ],
   "source": [
    "fut_inp.shape"
   ]
  },
  {
   "cell_type": "code",
   "execution_count": 313,
   "id": "04640ad7",
   "metadata": {},
   "outputs": [],
   "source": [
    "#Creating list of the last 100 data\n",
    "tmp_inp = tmp_inp[0].tolist()"
   ]
  },
  {
   "cell_type": "code",
   "execution_count": 314,
   "id": "05b78726",
   "metadata": {},
   "outputs": [
    {
     "name": "stdout",
     "output_type": "stream",
     "text": [
      "[[0.37326526641845703], [0.3551744818687439], [0.3331657946109772], [0.31138238310813904], [0.2910844385623932]]\n"
     ]
    }
   ],
   "source": [
    "#Predicting next 30 days price suing the current data\n",
    "#It will predict in sliding window manner (algorithm) with stride 1\n",
    "lst_output=[]\n",
    "n_steps=100\n",
    "i=0\n",
    "while(i<5):\n",
    "    \n",
    "    if(len(tmp_inp)>100):\n",
    "        fut_inp = np.array(tmp_inp[1:])\n",
    "        fut_inp=fut_inp.reshape(1,-1)\n",
    "        fut_inp = fut_inp.reshape((1, n_steps, 1))\n",
    "        yhat = model.predict(fut_inp, verbose=0)\n",
    "        tmp_inp.extend(yhat[0].tolist())\n",
    "        tmp_inp = tmp_inp[1:]\n",
    "        lst_output.extend(yhat.tolist())\n",
    "        i=i+1\n",
    "    else:\n",
    "        fut_inp = fut_inp.reshape((1, n_steps,1))\n",
    "        yhat = model.predict(fut_inp, verbose=0)\n",
    "        tmp_inp.extend(yhat[0].tolist())\n",
    "        lst_output.extend(yhat.tolist())\n",
    "        i=i+1\n",
    "    \n",
    "\n",
    "print(lst_output)"
   ]
  },
  {
   "cell_type": "code",
   "execution_count": 315,
   "id": "2fc3079c",
   "metadata": {},
   "outputs": [
    {
     "data": {
      "text/plain": [
       "1259"
      ]
     },
     "execution_count": 315,
     "metadata": {},
     "output_type": "execute_result"
    }
   ],
   "source": [
    "len(ds_scaled)"
   ]
  },
  {
   "cell_type": "code",
   "execution_count": 316,
   "id": "a33e183e",
   "metadata": {},
   "outputs": [],
   "source": [
    "lenth_of_ds_scaled=len(ds_scaled)-100"
   ]
  },
  {
   "cell_type": "code",
   "execution_count": 317,
   "id": "81791a76",
   "metadata": {},
   "outputs": [
    {
     "data": {
      "text/plain": [
       "1159"
      ]
     },
     "execution_count": 317,
     "metadata": {},
     "output_type": "execute_result"
    }
   ],
   "source": [
    "lenth_of_ds_scaled"
   ]
  },
  {
   "cell_type": "code",
   "execution_count": 318,
   "id": "9b3341e4",
   "metadata": {},
   "outputs": [],
   "source": [
    "#Creating a dummy plane to plot graph one after another\n",
    "plot_new=np.arange(1,101)\n",
    "plot_pred=np.arange(101,106)"
   ]
  },
  {
   "cell_type": "code",
   "execution_count": 319,
   "id": "fa2253a2",
   "metadata": {},
   "outputs": [
    {
     "data": {
      "text/plain": [
       "[<matplotlib.lines.Line2D at 0x1c79b35ca60>]"
      ]
     },
     "execution_count": 319,
     "metadata": {},
     "output_type": "execute_result"
    },
    {
     "data": {
      "image/png": "[encoded data removed]",
      "text/plain": [
       "<Figure size 432x288 with 1 Axes>"
      ]
     },
     "metadata": {
      "needs_background": "light"
     },
     "output_type": "display_data"
    }
   ],
   "source": [
    "plt.plot(plot_new, normalizer.inverse_transform(ds_scaled[lenth_of_ds_scaled:]))\n",
    "plt.plot(plot_pred, normalizer.inverse_transform(lst_output))"
   ]
  },
  {
   "cell_type": "code",
   "execution_count": 320,
   "id": "ad8c67cf",
   "metadata": {},
   "outputs": [
    {
     "data": {
      "text/plain": [
       "1259"
      ]
     },
     "execution_count": 320,
     "metadata": {},
     "output_type": "execute_result"
    }
   ],
   "source": [
    "ds_new = ds_scaled.tolist()\n",
    "len(ds_new)"
   ]
  },
  {
   "cell_type": "code",
   "execution_count": 321,
   "id": "b7621ae9",
   "metadata": {},
   "outputs": [
    {
     "data": {
      "text/plain": [
       "[<matplotlib.lines.Line2D at 0x1c79b2cba60>]"
      ]
     },
     "execution_count": 321,
     "metadata": {},
     "output_type": "execute_result"
    },
    {
     "data": {
      "image/png": "[encoded data removed]",
      "text/plain": [
       "<Figure size 432x288 with 1 Axes>"
      ]
     },
     "metadata": {
      "needs_background": "light"
     },
     "output_type": "display_data"
    }
   ],
   "source": [
    "#Entends helps us to fill the missing value with approx value\n",
    "ds_new.extend(lst_output)\n",
    "plt.plot(ds_new[1200:])"
   ]
  },
  {
   "cell_type": "code",
   "execution_count": 322,
   "id": "0684a38d",
   "metadata": {},
   "outputs": [],
   "source": [
    "#Creating final data for plotting\n",
    "final_graph = normalizer.inverse_transform(ds_new).tolist()"
   ]
  },
  {
   "cell_type": "code",
   "execution_count": 323,
   "id": "9cd28f5f",
   "metadata": {},
   "outputs": [
    {
     "data": {
      "text/plain": [
       "<matplotlib.legend.Legend at 0x1c79b25ab80>"
      ]
     },
     "execution_count": 323,
     "metadata": {},
     "output_type": "execute_result"
    },
    {
     "data": {
      "image/png": "[encoded data removed]",
      "text/plain": [
       "<Figure size 432x288 with 1 Axes>"
      ]
     },
     "metadata": {
      "needs_background": "light"
     },
     "output_type": "display_data"
    }
   ],
   "source": [
    "#Plotting final results with predicted value after 5 Days\n",
    "plt.plot(final_graph,)\n",
    "plt.ylabel(\"Price\")\n",
    "plt.xlabel(\"Time\")\n",
    "plt.title(\"{0} prediction of next 5 days open\".format(stock_symbol))\n",
    "plt.axhline(y=final_graph[len(final_graph)-1], color = 'red', linestyle = ':', label = 'NEXT 5D: {0}'.format(round(float(*final_graph[len(final_graph)-1]),2)))\n",
    "plt.legend()"
   ]
  },
  {
   "cell_type": "code",
   "execution_count": null,
   "id": "0a79f409",
   "metadata": {},
   "outputs": [],
   "source": []
  }
 ],
 "metadata": {
  "kernelspec": {
   "display_name": "newenvi",
   "language": "python",
   "name": "newenvi"
  },
  "language_info": {
   "codemirror_mode": {
    "name": "ipython",
    "version": 3
   },
   "file_extension": ".py",
   "mimetype": "text/x-python",
   "name": "python",
   "nbconvert_exporter": "python",
   "pygments_lexer": "ipython3",
   "version": "3.9.12"
  }
 },
 "nbformat": 4,
 "nbformat_minor": 5
}
